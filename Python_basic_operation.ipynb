{
  "nbformat": 4,
  "nbformat_minor": 0,
  "metadata": {
    "colab": {
      "provenance": [],
      "authorship_tag": "ABX9TyM9iJEw6QCZZ42WHP5sI8Lc",
      "include_colab_link": true
    },
    "kernelspec": {
      "name": "python3",
      "display_name": "Python 3"
    },
    "language_info": {
      "name": "python"
    }
  },
  "cells": [
    {
      "cell_type": "markdown",
      "metadata": {
        "id": "view-in-github",
        "colab_type": "text"
      },
      "source": [
        "<a href=\"https://colab.research.google.com/github/Arifeenhamim/Computer-Visison-and-Pattern/blob/main/Python_basic_operation.ipynb\" target=\"_parent\"><img src=\"https://colab.research.google.com/assets/colab-badge.svg\" alt=\"Open In Colab\"/></a>"
      ]
    },
    {
      "cell_type": "code",
      "execution_count": null,
      "metadata": {
        "id": "35NNIVWY8NAK"
      },
      "outputs": [],
      "source": []
    },
    {
      "cell_type": "markdown",
      "source": [
        "#Basic operatoion"
      ],
      "metadata": {
        "id": "2ambjCW3DLT7"
      }
    },
    {
      "cell_type": "code",
      "source": [
        "x=25\n",
        "print('number is ',x)\n",
        "print(type(x),x)\n",
        "\n",
        "print('addition',x+4)   #29\n",
        "print('sub',x-8)        #17\n",
        "print('mul',x*2)        #50\n",
        "print('exp',x ** 2)\n",
        "\n",
        "\n",
        "\n",
        "x += 1\n",
        "print('now x value is ',x)  #26\n",
        "\n",
        "x *= 2\n",
        "print('now x value is ',x)  #52\n",
        "\n",
        "x -= 2\n",
        "print('now x value is ',x)  #50"
      ],
      "metadata": {
        "colab": {
          "base_uri": "https://localhost:8080/"
        },
        "id": "-Ygjy0nE8Nb4",
        "outputId": "9e4d8a2e-b2d3-4aa9-e005-db1eee39b657"
      },
      "execution_count": 8,
      "outputs": [
        {
          "output_type": "stream",
          "name": "stdout",
          "text": [
            "number is  25\n",
            "<class 'int'> 25\n",
            "addition 29\n",
            "sub 17\n",
            "mul 50\n",
            "exp 625\n",
            "now x value is  26\n",
            "now x value is  52\n",
            "now x value is  50\n"
          ]
        }
      ]
    },
    {
      "cell_type": "markdown",
      "source": [
        "#Boolen problem"
      ],
      "metadata": {
        "id": "hMAtQP1K9ruS"
      }
    },
    {
      "cell_type": "code",
      "source": [
        "#boolen problem\n",
        "\n",
        "a = True\n",
        "b = False\n",
        "\n",
        "print(type(a)) # bool\n",
        "print(a and b)  # flase means if 1 true and 1 false = false\n",
        "print(a or b)  #  true means if 1 true or 1 false = false\n",
        "print(not b)  #true means it is not false\n",
        "print(b!=a)  # b not a true\n"
      ],
      "metadata": {
        "colab": {
          "base_uri": "https://localhost:8080/"
        },
        "id": "nlWvB21r90Ys",
        "outputId": "2407e900-5332-424c-f869-4bced7577f2b"
      },
      "execution_count": 30,
      "outputs": [
        {
          "output_type": "stream",
          "name": "stdout",
          "text": [
            "<class 'bool'>\n",
            "False\n",
            "True\n",
            "True\n",
            "True\n"
          ]
        }
      ]
    },
    {
      "cell_type": "markdown",
      "source": [
        "If consition"
      ],
      "metadata": {
        "id": "zibrjggF-zol"
      }
    },
    {
      "cell_type": "code",
      "source": [
        "\n",
        "#if condition\n",
        "\n",
        "a=40\n",
        "b=15\n",
        "\n",
        "if a==40:\n",
        "  print(\"a is 40\")\n",
        "  if b==15:\n",
        "    print(\"b is 15\")\n",
        "elif a==15:\n",
        "  print(\"the value of a is replace with 15\")\n",
        "else:\n",
        "  (\"there is no value to print\")\n",
        "\n"
      ],
      "metadata": {
        "colab": {
          "base_uri": "https://localhost:8080/"
        },
        "id": "bj_Q2vGs-2JM",
        "outputId": "ab5fe51c-7aec-407a-ddb2-9bb30a872681"
      },
      "execution_count": 11,
      "outputs": [
        {
          "output_type": "stream",
          "name": "stdout",
          "text": [
            "a is 40\n",
            "b is 15\n"
          ]
        }
      ]
    },
    {
      "cell_type": "markdown",
      "source": [
        "Loop"
      ],
      "metadata": {
        "id": "Q6hUHsNA_p0Z"
      }
    },
    {
      "cell_type": "code",
      "source": [
        "\n",
        "# for loop\n",
        "\n",
        "for a in range(1,10):\n",
        "  print('value of a ',a)\n",
        "\n",
        "print('   ')\n",
        "\n",
        "for b in range(20,100,10):\n",
        "  print(\"value of b \",b)\n",
        "\n",
        "print('   ')\n",
        "for c in range(50,0,-5):\n",
        "  print('value of c ',c)"
      ],
      "metadata": {
        "colab": {
          "base_uri": "https://localhost:8080/"
        },
        "id": "u4I20Z3T_rCC",
        "outputId": "f72c0baf-88fe-465f-c46f-58977bdc29e6"
      },
      "execution_count": 20,
      "outputs": [
        {
          "output_type": "stream",
          "name": "stdout",
          "text": [
            "value of a  1\n",
            "value of a  2\n",
            "value of a  3\n",
            "value of a  4\n",
            "value of a  5\n",
            "value of a  6\n",
            "value of a  7\n",
            "value of a  8\n",
            "value of a  9\n",
            "   \n",
            "value of b  20\n",
            "value of b  30\n",
            "value of b  40\n",
            "value of b  50\n",
            "value of b  60\n",
            "value of b  70\n",
            "value of b  80\n",
            "value of b  90\n",
            "   \n",
            "value of c  50\n",
            "value of c  45\n",
            "value of c  40\n",
            "value of c  35\n",
            "value of c  30\n",
            "value of c  25\n",
            "value of c  20\n",
            "value of c  15\n",
            "value of c  10\n",
            "value of c  5\n"
          ]
        }
      ]
    },
    {
      "cell_type": "markdown",
      "source": [
        "#*Math*\n",
        "\n",
        "'f',Also called “formatted string literals,” f-strings are string literals that have an f at the beginning and curly braces containing expressions that will be replaced with their values.\n",
        "\n",
        "code :\n",
        "val = 'someting value'\n",
        "\n",
        "print(f\"{val} is a for {val}.\")\n"
      ],
      "metadata": {
        "id": "LKcOsj26A2GY"
      }
    },
    {
      "cell_type": "code",
      "source": [
        "value=(\"Hamim\")\n",
        "age=(\"23\")\n",
        "print(f\"My name is {value} and i am {age} years old\")\n"
      ],
      "metadata": {
        "colab": {
          "base_uri": "https://localhost:8080/"
        },
        "id": "6LM2cEZBCeiu",
        "outputId": "646b3b0e-f761-4c73-f13b-5ba50ac7f4a6"
      },
      "execution_count": 29,
      "outputs": [
        {
          "output_type": "stream",
          "name": "stdout",
          "text": [
            "My name is Hamim and i am 23 years old\n"
          ]
        }
      ]
    },
    {
      "cell_type": "code",
      "source": [
        "account = 0\n",
        "for x in range(1, 20):\n",
        "    print(f\"{account} + {x} =  \", end=\"\")  #\n",
        "    account += x\n",
        "    print(account)\n",
        "\n",
        "print(f\"Final sum: {account}\")"
      ],
      "metadata": {
        "colab": {
          "base_uri": "https://localhost:8080/"
        },
        "id": "eIHs8uLJA42Z",
        "outputId": "df592878-d197-4fca-9f5a-6ee31ef45cd3"
      },
      "execution_count": 28,
      "outputs": [
        {
          "output_type": "stream",
          "name": "stdout",
          "text": [
            "0 + 1 =  1\n",
            "1 + 2 =  3\n",
            "3 + 3 =  6\n",
            "6 + 4 =  10\n",
            "10 + 5 =  15\n",
            "15 + 6 =  21\n",
            "21 + 7 =  28\n",
            "28 + 8 =  36\n",
            "36 + 9 =  45\n",
            "45 + 10 =  55\n",
            "55 + 11 =  66\n",
            "66 + 12 =  78\n",
            "78 + 13 =  91\n",
            "91 + 14 =  105\n",
            "105 + 15 =  120\n",
            "120 + 16 =  136\n",
            "136 + 17 =  153\n",
            "153 + 18 =  171\n",
            "171 + 19 =  190\n",
            "Final sum: 190\n"
          ]
        }
      ]
    },
    {
      "cell_type": "code",
      "source": [
        " \n",
        "\n",
        "a=0\n",
        "for x in  range(1,5):\n",
        "  print(f\"{a}+{x}=\",end='')\n",
        "  a+=x\n",
        "  print(a)\n",
        "                "
      ],
      "metadata": {
        "colab": {
          "base_uri": "https://localhost:8080/"
        },
        "id": "3z_0jdoQBAdv",
        "outputId": "34e1ccf4-08f0-4efc-b8ae-ffd2f9c24a47"
      },
      "execution_count": 23,
      "outputs": [
        {
          "output_type": "stream",
          "name": "stdout",
          "text": [
            "0+1=1\n",
            "1+2=3\n",
            "3+3=6\n",
            "6+4=10\n"
          ]
        }
      ]
    }
  ]
}