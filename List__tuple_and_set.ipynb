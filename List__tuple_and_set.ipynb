{
  "nbformat": 4,
  "nbformat_minor": 0,
  "metadata": {
    "colab": {
      "provenance": [],
      "authorship_tag": "ABX9TyOsFbn5rwWFit6KBr8Etp7R",
      "include_colab_link": true
    },
    "kernelspec": {
      "name": "python3",
      "display_name": "Python 3"
    },
    "language_info": {
      "name": "python"
    }
  },
  "cells": [
    {
      "cell_type": "markdown",
      "metadata": {
        "id": "view-in-github",
        "colab_type": "text"
      },
      "source": [
        "<a href=\"https://colab.research.google.com/github/Arifeenhamim/Computer-Visison-and-Pattern/blob/main/List__tuple_and_set.ipynb\" target=\"_parent\"><img src=\"https://colab.research.google.com/assets/colab-badge.svg\" alt=\"Open In Colab\"/></a>"
      ]
    },
    {
      "cell_type": "code",
      "execution_count": null,
      "metadata": {
        "id": "u3KZ6luWffUb"
      },
      "outputs": [],
      "source": []
    },
    {
      "cell_type": "markdown",
      "source": [
        "#List , Tuple & Set\n",
        "\n",
        "List=[]\n",
        "\n",
        "Tuple=()\n",
        "\n",
        "Set={}\n",
        "```\n",
        "\n",
        "```\n",
        "\n"
      ],
      "metadata": {
        "id": "3M02wvpKflB8"
      }
    },
    {
      "cell_type": "code",
      "source": [
        "a=['10','20','30']\n",
        "b=(\"ef\",\"cd\",\"ab\")\n",
        "c={'Hello','Hi','Halo'}\n",
        "\n",
        "print(type(a),a)\n",
        "print(type(b),b)\n",
        "print(type(c),c)\n",
        "\n",
        "print(' ')\n",
        "'Hello' in a"
      ],
      "metadata": {
        "colab": {
          "base_uri": "https://localhost:8080/"
        },
        "id": "YHHfh8zEflXY",
        "outputId": "7169307a-1eb7-41c0-b6bf-78e37cd51f4b"
      },
      "execution_count": null,
      "outputs": [
        {
          "output_type": "stream",
          "name": "stdout",
          "text": [
            "<class 'list'> ['10', '20', '30']\n",
            "<class 'tuple'> ('ef', 'cd', 'ab')\n",
            "<class 'set'> {'Halo', 'Hello', 'Hi'}\n",
            " \n"
          ]
        },
        {
          "output_type": "execute_result",
          "data": {
            "text/plain": [
              "False"
            ]
          },
          "metadata": {},
          "execution_count": 33
        }
      ]
    },
    {
      "cell_type": "markdown",
      "source": [
        "#Index wise selection"
      ],
      "metadata": {
        "id": "-SN4A0QzhLZQ"
      }
    },
    {
      "cell_type": "code",
      "source": [
        "print(\"Elements: \",b[0],a[0],b[-1],a[-2],b[-3])\n",
        "\n",
        "print(\" \")\n",
        "\n",
        "for i in a:\n",
        "  print(i)\n"
      ],
      "metadata": {
        "colab": {
          "base_uri": "https://localhost:8080/"
        },
        "id": "Kh98J1ztgnHu",
        "outputId": "4c03de3b-7a4b-4717-c26b-92607f0af78d"
      },
      "execution_count": null,
      "outputs": [
        {
          "output_type": "stream",
          "name": "stdout",
          "text": [
            "Elements:  ef 10 ab 20 ef\n",
            " \n",
            "10\n",
            "20\n",
            "30\n"
          ]
        }
      ]
    },
    {
      "cell_type": "markdown",
      "source": [
        "#Append , Insert & Remove"
      ],
      "metadata": {
        "id": "CbUpCTofiUJd"
      }
    },
    {
      "cell_type": "code",
      "source": [
        "# append\n",
        "\n",
        "alist=[]\n",
        "\n",
        "alist.append('heloo')\n",
        "alist.append('i am')\n",
        "alist.append('hamim')\n",
        "print('elements of alist ',alist)\n",
        "print('  ')\n",
        "\n",
        "#insert\n",
        "\n",
        "a=['10','20','30']\n",
        "\n",
        "a.insert(0,'a0')\n",
        "\n",
        "a.insert(4,'a1')\n",
        "\n",
        "print('New elements of a :',a) #['a0', '10', '20', '30', 'a1']\n",
        "print('  ')\n",
        "#Remove\n",
        "\n",
        "a.remove('10')\n",
        "a.remove('a0')\n",
        "print('after remove ',a)\n",
        "print('  ')\n",
        "\n",
        "#delete\n",
        "del a[0]\n",
        "print('delete from a ',a)"
      ],
      "metadata": {
        "colab": {
          "base_uri": "https://localhost:8080/"
        },
        "id": "L5FGr9RTiVvI",
        "outputId": "8b8b54fd-bdf5-42f1-f17b-446301352d21"
      },
      "execution_count": null,
      "outputs": [
        {
          "output_type": "stream",
          "name": "stdout",
          "text": [
            "elements of alist  ['heloo', 'i am', 'hamim']\n",
            "  \n",
            "New elements of a : ['a0', '10', '20', '30', 'a1']\n",
            "  \n",
            "after remove  ['20', '30', 'a1']\n",
            "  \n",
            "delete from a  ['30', 'a1']\n"
          ]
        }
      ]
    },
    {
      "cell_type": "markdown",
      "source": [
        "#List of list"
      ],
      "metadata": {
        "id": "G_JBR_iFkibu"
      }
    },
    {
      "cell_type": "code",
      "source": [
        "list_of_list=[\n",
        "    ['a','b','c','d'],\n",
        "    ['hello','how','are','you']\n",
        "]\n",
        "print(list_of_list)\n",
        "print(\" \")\n",
        "print(list_of_list [0][2])\n",
        "print(list_of_list [1][2])"
      ],
      "metadata": {
        "colab": {
          "base_uri": "https://localhost:8080/"
        },
        "id": "86jK-FiVkl4u",
        "outputId": "32043b53-7a31-4704-9a14-d0fa8b66a861"
      },
      "execution_count": null,
      "outputs": [
        {
          "output_type": "stream",
          "name": "stdout",
          "text": [
            "[['a', 'b', 'c', 'd'], ['hello', 'how', 'are', 'you']]\n",
            " \n",
            "c\n",
            "are\n"
          ]
        }
      ]
    },
    {
      "cell_type": "markdown",
      "source": [
        "#Map Zip and Com list"
      ],
      "metadata": {
        "id": "1FZAl0yTg2dq"
      }
    },
    {
      "cell_type": "code",
      "source": [
        "std={'hamim':65.50,'arifeen':90.5}\n",
        "print(std,type(std))"
      ],
      "metadata": {
        "colab": {
          "base_uri": "https://localhost:8080/"
        },
        "id": "ATVZ3s11blCG",
        "outputId": "10ac6568-22e5-4f9b-d15b-0f868cc4c011"
      },
      "execution_count": 4,
      "outputs": [
        {
          "output_type": "stream",
          "name": "stdout",
          "text": [
            "{'hamim': 65.5, 'arifeen': 90.5} <class 'dict'>\n"
          ]
        }
      ]
    },
    {
      "cell_type": "code",
      "source": [
        "print(std['hamim'])\n",
        "\n",
        "a=(std['arifeen'])\n",
        "print(a)\n",
        "\n",
        "std.get('hamim','default')"
      ],
      "metadata": {
        "colab": {
          "base_uri": "https://localhost:8080/"
        },
        "id": "OIQA-zODcBmu",
        "outputId": "e8b7ca57-0ab1-45f3-c9dd-d65de736128c"
      },
      "execution_count": 13,
      "outputs": [
        {
          "output_type": "stream",
          "name": "stdout",
          "text": [
            "65.5\n",
            "90.5\n"
          ]
        },
        {
          "output_type": "execute_result",
          "data": {
            "text/plain": [
              "65.5"
            ]
          },
          "metadata": {},
          "execution_count": 13
        }
      ]
    },
    {
      "cell_type": "code",
      "source": [
        "a={'hamim':40,'faiza':50,'sajid':80,'tahmid':60}\n",
        "for info in a:\n",
        "  print(info)"
      ],
      "metadata": {
        "colab": {
          "base_uri": "https://localhost:8080/"
        },
        "id": "Ds92EBLPdPpQ",
        "outputId": "926ff14a-2a5c-4d88-a829-814b68c6447a"
      },
      "execution_count": 14,
      "outputs": [
        {
          "output_type": "stream",
          "name": "stdout",
          "text": [
            "hamim\n",
            "faiza\n",
            "sajid\n",
            "tahmid\n"
          ]
        }
      ]
    },
    {
      "cell_type": "code",
      "source": [
        "for info in a:\n",
        "  new=a[info]\n",
        "  print('i am %s and i have %d tk'% (info,new))"
      ],
      "metadata": {
        "colab": {
          "base_uri": "https://localhost:8080/"
        },
        "id": "rmX0Mfm_dtFv",
        "outputId": "a121d7e6-9e81-43b2-9538-40e1395d4109"
      },
      "execution_count": 17,
      "outputs": [
        {
          "output_type": "stream",
          "name": "stdout",
          "text": [
            "i am hamim and i have 40 tk\n",
            "i am faiza and i have 50 tk\n",
            "i am sajid and i have 80 tk\n",
            "i am tahmid and i have 60 tk\n"
          ]
        }
      ]
    },
    {
      "cell_type": "code",
      "source": [
        "a=['40','5','75','64','81']\n",
        "b=['x','z','r','t','k']\n",
        "print(list(zip(a,b)))\n",
        "\n",
        "print(a[1:])\n",
        "print(a[:3])\n",
        "print(a[:-1])"
      ],
      "metadata": {
        "colab": {
          "base_uri": "https://localhost:8080/"
        },
        "id": "h7NlBqDIeSDQ",
        "outputId": "73d3fa47-3253-41a3-98d8-eef02faacdc0"
      },
      "execution_count": 23,
      "outputs": [
        {
          "output_type": "stream",
          "name": "stdout",
          "text": [
            "[('40', 'x'), ('5', 'z'), ('75', 'r'), ('64', 't'), ('81', 'k')]\n",
            "['5', '75', '64', '81']\n",
            "['40', '5', '75']\n",
            "['40', '5', '75', '64']\n"
          ]
        }
      ]
    },
    {
      "cell_type": "code",
      "source": [
        "hello=[10,20,60,40]\n",
        "halo=['a','b','c','d']\n",
        "\n",
        "print(\"this is zip operation\",list(zip(hello,halo)))"
      ],
      "metadata": {
        "colab": {
          "base_uri": "https://localhost:8080/"
        },
        "id": "zeR0EJxXfYny",
        "outputId": "c0bae982-9db0-4bd0-cfe6-a77a84ba7d70"
      },
      "execution_count": 28,
      "outputs": [
        {
          "output_type": "stream",
          "name": "stdout",
          "text": [
            "this is zip operation [(10, 'a'), (20, 'b'), (60, 'c'), (40, 'd')]\n"
          ]
        }
      ]
    },
    {
      "cell_type": "code",
      "source": [
        "alist=[1,5,6,4,5,8,]\n",
        "newlist=[i for i in alist]\n",
        "print(newlist)\n",
        "\n",
        "sq=[a**2 for a in alist]\n",
        "print(sq)"
      ],
      "metadata": {
        "colab": {
          "base_uri": "https://localhost:8080/"
        },
        "id": "va8cOQIzgSgI",
        "outputId": "9b98172a-bdd4-4e69-fc15-535048beded5"
      },
      "execution_count": 31,
      "outputs": [
        {
          "output_type": "stream",
          "name": "stdout",
          "text": [
            "[1, 5, 6, 4, 5, 8]\n",
            "[1, 25, 36, 16, 25, 64]\n"
          ]
        }
      ]
    }
  ]
}