{
 "cells": [
  {
   "cell_type": "code",
   "execution_count": null,
   "metadata": {},
   "outputs": [],
   "source": [
    "# Importing Libraries\n",
    "import time\n",
    "import cv2\n",
    "import pickle\n",
    "import numpy as np\n",
    "import tensorflow as tf\n",
    "from tensorflow.keras.models import load_model"
   ]
  },
  {
   "cell_type": "code",
   "execution_count": null,
   "metadata": {},
   "outputs": [],
   "source": [
    "model = load_model(\"mymodel.h5\", compile=False)\n",
    "model.compile(optimizer=tf.keras.optimizers.Adam(learning_rate=1e-3),\n",
    "              loss=tf.keras.losses.BinaryCrossentropy(),\n",
    "              metrics=[tf.keras.metrics.BinaryAccuracy()])"
   ]
  },
  {
   "cell_type": "code",
   "execution_count": null,
   "metadata": {},
   "outputs": [],
   "source": [
    "#Load the  Dictionary\n",
    "\n",
    "with open('./category2label.pkl', 'rb') as cat:\n",
    "    category_2_label = pickle.load(cat)"
   ]
  },
  {
   "cell_type": "code",
   "execution_count": null,
   "metadata": {},
   "outputs": [],
   "source": [
    "#Defining Image Size\n",
    "\n",
    "print(category_2_label)\n",
    "\n",
    "img_size = (100, 100)\n",
    "\n",
    "#Setting Box Colors\n",
    "\n",
    "box_colors = {0: (0, 0, 255), 1: (0, 255, 0)}"
   ]
  },
  {
   "cell_type": "code",
   "execution_count": null,
   "metadata": {},
   "outputs": [],
   "source": [
    "#Initializing the Face Cascade Classifier\n",
    "\n",
    "face_cascade = cv2.CascadeClassifier('haarcascade_frontalface_default.xml')\n",
    "\n"
   ]
  },
  {
   "cell_type": "code",
   "execution_count": null,
   "metadata": {},
   "outputs": [],
   "source": [
    "# video from webcam\n",
    "\n",
    "cap = cv2.VideoCapture(0)    #video capture object\n",
    "begin_time = time.time()     #set to the current time, and frame_cnt is initialized to 0.\n",
    "frame_cnt = 1\n",
    "\n",
    "while cap.isOpened():        #captures a frame of video from the camera and processes it\n",
    "    rate, frame = cap.read()  #The rate and frame values are obtained using the cap.read() method\n",
    "\n",
    "    if not rate:    #check kore picture capture hoise kina , nah hole break\n",
    "        break\n",
    "\n",
    "    frame_cnt += 1      #The frame counter is incremented by one.\n",
    "    frame = cv2.flip(frame, 1)\n",
    "    face = face_cascade.detectMultiScale(frame, 1.5, 5)\n",
    "\n",
    "    for (x, y, w, h) in face:\n",
    "        # prediction\n",
    "\n",
    "        roi = frame[y:y+h, x:x+w]\n",
    "        data = cv2.resize(cv2.cvtColor(roi, cv2.COLOR_BGR2RGB), img_size)\n",
    "        data = data / 255.\n",
    "        data = data.reshape((1,) + data.shape)\n",
    "\n",
    "        pred = model.predict(data)\n",
    "\n",
    "        target = int(round(pred[0][0]))\n",
    "\n",
    "        # drawing box\n",
    "        cv2.rectangle(img=frame, pt1=(x, y), pt2=(x+w, y+h), color=box_colors[target], thickness=2)\n",
    "        text = \"{}: {:.2f}\".format(category_2_label[target], pred[0][0])\n",
    "        cv2.putText(frame, text, org=(x, y-5), fontFace=cv2.FONT_HERSHEY_SIMPLEX,fontScale=0.6, color=(255, 255, 255), thickness=1)\n",
    "\n",
    "    endtime = time.time()-begin_time\n",
    "    fps = frame_cnt / endtime\n",
    "\n",
    "\n",
    "    #Displaying FPS\n",
    "    \n",
    "    cv2.putText(img=frame, text=\"FPS: \"+str(round(fps, 2)), org=(10, 20),\n",
    "                fontFace=cv2.FONT_HERSHEY_SIMPLEX,  fontScale=0.5, color=(255, 255, 255), thickness=1)\n",
    "    # Show the frame\n",
    "    cv2.imshow('Face Mask Detection', frame)\n",
    "\n",
    "    if cv2.waitKey(1) & 0xFF == 27:\n",
    "        break\n",
    "\n",
    "cap.release()\n",
    "cv2.destroyAllWindows()\n"
   ]
  }
 ],
 "metadata": {
  "kernelspec": {
   "display_name": "base",
   "language": "python",
   "name": "python3"
  },
  "language_info": {
   "codemirror_mode": {
    "name": "ipython",
    "version": 3
   },
   "file_extension": ".py",
   "mimetype": "text/x-python",
   "name": "python",
   "nbconvert_exporter": "python",
   "pygments_lexer": "ipython3",
   "version": "3.11.1"
  },
  "orig_nbformat": 4
 },
 "nbformat": 4,
 "nbformat_minor": 2
}
